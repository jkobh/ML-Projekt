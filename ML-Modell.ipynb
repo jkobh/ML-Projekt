{
 "cells": [
  {
   "cell_type": "markdown",
   "metadata": {},
   "source": [
    "### 1 Laden Sie die Trainingsdaten"
   ]
  },
  {
   "cell_type": "code",
   "execution_count": 18,
   "metadata": {},
   "outputs": [],
   "source": [
    "import numpy as np\n",
    "import matplotlib.pyplot as plt\n",
    "import pandas as pd"
   ]
  },
  {
   "cell_type": "code",
   "execution_count": 8,
   "metadata": {},
   "outputs": [
    {
     "name": "stdout",
     "output_type": "stream",
     "text": [
      "   transactionId                 basket customerType  totalAmount  returnLabel\n",
      "0     9534310106              [4, 3, 4]          new        252.0            1\n",
      "1     7202594767        [4, 2, 0, 2, 5]     existing         70.0            0\n",
      "2     2737331698                    [5]     existing         84.0            0\n",
      "3     4868011733           [1, 4, 2, 4]     existing        116.0            0\n",
      "4     7622406570  [2, 5, 3, 2, 3, 2, 0]     existing        378.0            0\n"
     ]
    }
   ],
   "source": [
    "df_raw_transaction_data = pd.read_csv(r\"data/train.csv\", delimiter=';')\n",
    "\n",
    "print(df_raw_transaction_data.head())"
   ]
  },
  {
   "cell_type": "markdown",
   "metadata": {},
   "source": [
    "### 2 EDA "
   ]
  },
  {
   "cell_type": "code",
   "execution_count": 12,
   "metadata": {},
   "outputs": [
    {
     "name": "stdout",
     "output_type": "stream",
     "text": [
      "Der Datensatz enthält 919 NaN-Werte.\n"
     ]
    }
   ],
   "source": [
    "nan_values = df_raw_transaction_data.isna().sum().sum()\n",
    "print(f'Der Datensatz enthält {nan_values} NaN-Werte.')"
   ]
  },
  {
   "cell_type": "code",
   "execution_count": 13,
   "metadata": {},
   "outputs": [
    {
     "data": {
      "text/html": [
       "<div>\n",
       "<style scoped>\n",
       "    .dataframe tbody tr th:only-of-type {\n",
       "        vertical-align: middle;\n",
       "    }\n",
       "\n",
       "    .dataframe tbody tr th {\n",
       "        vertical-align: top;\n",
       "    }\n",
       "\n",
       "    .dataframe thead th {\n",
       "        text-align: right;\n",
       "    }\n",
       "</style>\n",
       "<table border=\"1\" class=\"dataframe\">\n",
       "  <thead>\n",
       "    <tr style=\"text-align: right;\">\n",
       "      <th></th>\n",
       "      <th>transactionId</th>\n",
       "      <th>totalAmount</th>\n",
       "      <th>returnLabel</th>\n",
       "    </tr>\n",
       "  </thead>\n",
       "  <tbody>\n",
       "    <tr>\n",
       "      <th>count</th>\n",
       "      <td>2.240000e+04</td>\n",
       "      <td>21923.000000</td>\n",
       "      <td>22400.000000</td>\n",
       "    </tr>\n",
       "    <tr>\n",
       "      <th>mean</th>\n",
       "      <td>5.498836e+09</td>\n",
       "      <td>259.056014</td>\n",
       "      <td>0.296964</td>\n",
       "    </tr>\n",
       "    <tr>\n",
       "      <th>std</th>\n",
       "      <td>2.594620e+09</td>\n",
       "      <td>217.299439</td>\n",
       "      <td>0.456931</td>\n",
       "    </tr>\n",
       "    <tr>\n",
       "      <th>min</th>\n",
       "      <td>1.000405e+09</td>\n",
       "      <td>10.000000</td>\n",
       "      <td>0.000000</td>\n",
       "    </tr>\n",
       "    <tr>\n",
       "      <th>25%</th>\n",
       "      <td>3.269971e+09</td>\n",
       "      <td>86.000000</td>\n",
       "      <td>0.000000</td>\n",
       "    </tr>\n",
       "    <tr>\n",
       "      <th>50%</th>\n",
       "      <td>5.484690e+09</td>\n",
       "      <td>204.000000</td>\n",
       "      <td>0.000000</td>\n",
       "    </tr>\n",
       "    <tr>\n",
       "      <th>75%</th>\n",
       "      <td>7.752266e+09</td>\n",
       "      <td>370.000000</td>\n",
       "      <td>1.000000</td>\n",
       "    </tr>\n",
       "    <tr>\n",
       "      <th>max</th>\n",
       "      <td>9.999530e+09</td>\n",
       "      <td>1976.000000</td>\n",
       "      <td>1.000000</td>\n",
       "    </tr>\n",
       "  </tbody>\n",
       "</table>\n",
       "</div>"
      ],
      "text/plain": [
       "       transactionId   totalAmount   returnLabel\n",
       "count   2.240000e+04  21923.000000  22400.000000\n",
       "mean    5.498836e+09    259.056014      0.296964\n",
       "std     2.594620e+09    217.299439      0.456931\n",
       "min     1.000405e+09     10.000000      0.000000\n",
       "25%     3.269971e+09     86.000000      0.000000\n",
       "50%     5.484690e+09    204.000000      0.000000\n",
       "75%     7.752266e+09    370.000000      1.000000\n",
       "max     9.999530e+09   1976.000000      1.000000"
      ]
     },
     "execution_count": 13,
     "metadata": {},
     "output_type": "execute_result"
    }
   ],
   "source": [
    "df_raw_transaction_data.describe()"
   ]
  },
  {
   "cell_type": "code",
   "execution_count": 11,
   "metadata": {},
   "outputs": [
    {
     "data": {
      "image/png": "[encoded data removed]",
      "text/plain": [
       "<Figure size 500x500 with 4 Axes>"
      ]
     },
     "metadata": {},
     "output_type": "display_data"
    }
   ],
   "source": [
    "df_raw_transaction_data.hist(figsize=(5, 5), bins=50, xlabelsize=12, ylabelsize=12)\n",
    "plt.tight_layout() # optional to improve presentation of plots (overlap of axis labels)\n",
    "plt.show()"
   ]
  },
  {
   "cell_type": "markdown",
   "metadata": {},
   "source": [
    "### 3 Fehlende Werte auffüllen"
   ]
  },
  {
   "cell_type": "code",
   "execution_count": 7,
   "metadata": {},
   "outputs": [
    {
     "name": "stdout",
     "output_type": "stream",
     "text": [
      "Der Datensatz enthält 919 NaN-Werte.\n"
     ]
    }
   ],
   "source": [
    "nan_values = df_raw_transaction_data.isna().sum().sum()\n",
    "print(f'Der Datensatz enthält {nan_values} NaN-Werte.')\n",
    "\n",
    "#age_mean = X_train['Age'].mean()\n",
    "#print(\"Age mean:\", age_mean)\n",
    "#X_train['Age'] = X_train['Age'].fillna(age_mean)\n",
    "#X_train.isna().sum()"
   ]
  },
  {
   "cell_type": "markdown",
   "metadata": {},
   "source": [
    "### 4 One-hot-encoding"
   ]
  },
  {
   "cell_type": "code",
   "execution_count": 33,
   "metadata": {},
   "outputs": [
    {
     "name": "stdout",
     "output_type": "stream",
     "text": [
      "   transactionId                 basket  totalAmount  returnLabel  \\\n",
      "0     9534310106              [4, 3, 4]        252.0            1   \n",
      "1     7202594767        [4, 2, 0, 2, 5]         70.0            0   \n",
      "2     2737331698                    [5]         84.0            0   \n",
      "3     4868011733           [1, 4, 2, 4]        116.0            0   \n",
      "4     7622406570  [2, 5, 3, 2, 3, 2, 0]        378.0            0   \n",
      "\n",
      "   customerType_existing  customerType_new  \n",
      "0                  False              True  \n",
      "1                   True             False  \n",
      "2                   True             False  \n",
      "3                   True             False  \n",
      "4                   True             False  \n"
     ]
    }
   ],
   "source": [
    "df_transaction = pd.get_dummies(df_raw_transaction_data, columns=['customerType'])\n",
    "print(df_transaction.head())"
   ]
  },
  {
   "cell_type": "markdown",
   "metadata": {},
   "source": [
    "### 5 Features bauen"
   ]
  },
  {
   "cell_type": "markdown",
   "metadata": {},
   "source": [
    "### 6 Skalieren"
   ]
  },
  {
   "cell_type": "markdown",
   "metadata": {},
   "source": [
    "### 7. Klassifikationsmodelle Trainieren"
   ]
  },
  {
   "cell_type": "markdown",
   "metadata": {},
   "source": [
    "### 8. Laden der Testdaten"
   ]
  },
  {
   "cell_type": "markdown",
   "metadata": {},
   "source": [
    "### 9. Entfernen Sie alle Zeilen mit fehlenden Werten."
   ]
  },
  {
   "cell_type": "markdown",
   "metadata": {},
   "source": [
    "### 10. Transformieren Sie die Attribute genauso wie bei den Trainingsdaten."
   ]
  },
  {
   "cell_type": "markdown",
   "metadata": {},
   "source": [
    "### 11. Skalieren Sie die Daten im gleichem Maß wie die Trainingsdaten."
   ]
  },
  {
   "cell_type": "markdown",
   "metadata": {},
   "source": [
    "### 12. Machen Sie eine Vorhersage auf den Testdaten mit allen drei Modellen und den jeweils besten Hyperparametern aus der Cross Validation."
   ]
  },
  {
   "cell_type": "markdown",
   "metadata": {},
   "source": [
    "### 13. Berechnen Sie für jedes der drei Modell Accuracy, Precision und Recall."
   ]
  },
  {
   "cell_type": "markdown",
   "metadata": {},
   "source": [
    "### 14. Berechnen Sie außerdem die Accuracy auf den Trainingsdaten und vergleichen Sie Accuracy auf Trainings- und Testdaten. Liegt Overfitting vor? (Unterschied > 5%)"
   ]
  },
  {
   "cell_type": "markdown",
   "metadata": {},
   "source": [
    "###  15. Untersuchen Sie wieviele Datenpunkte es in den Testdaten gibt, welche von allen drei Modellen falsch klassifiziert wurden: \n",
    "### 1. Bestimmen Sie für jedes der drei Modelle die Indizes der Testdatenpunkte auf welchen das jeweilige Modell falsch klassifiziert hat. \n",
    "### 2. Nutzen Sie die set-Klasse in Python um die Anzahl an Datenpunkten zu bestimmen, welche von allen drei Modellen falsch klassifiziert wurden."
   ]
  },
  {
   "cell_type": "markdown",
   "metadata": {},
   "source": [
    "### 16. Vergleichen Sie die Feature-Importances der drei Modelle."
   ]
  }
 ],
 "metadata": {
  "kernelspec": {
   "display_name": "ml-env",
   "language": "python",
   "name": "python3"
  },
  "language_info": {
   "codemirror_mode": {
    "name": "ipython",
    "version": 3
   },
   "file_extension": ".py",
   "mimetype": "text/x-python",
   "name": "python",
   "nbconvert_exporter": "python",
   "pygments_lexer": "ipython3",
   "version": "3.8.20"
  }
 },
 "nbformat": 4,
 "nbformat_minor": 2
}

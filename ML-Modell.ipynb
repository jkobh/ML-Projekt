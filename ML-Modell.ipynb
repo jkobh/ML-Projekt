{
 "cells": [
  {
   "cell_type": "markdown",
   "metadata": {},
   "source": [
    "### 1 Laden Sie die Trainingsdaten"
   ]
  },
  {
   "cell_type": "code",
   "execution_count": 225,
   "metadata": {},
   "outputs": [],
   "source": [
    "import matplotlib.pyplot as plt\n",
    "import pandas as pd"
   ]
  },
  {
   "cell_type": "code",
   "execution_count": 226,
   "metadata": {},
   "outputs": [],
   "source": [
    "pd.set_option('display.max_columns', None)\n",
    "pd.set_option('display.width', 1000)\n"
   ]
  },
  {
   "cell_type": "code",
   "execution_count": 227,
   "metadata": {},
   "outputs": [
    {
     "name": "stdout",
     "output_type": "stream",
     "text": [
      "   transactionId                 basket customerType  totalAmount  returnLabel\n",
      "0     9534310106              [4, 3, 4]          new        252.0            1\n",
      "1     7202594767        [4, 2, 0, 2, 5]     existing         70.0            0\n",
      "2     2737331698                    [5]     existing         84.0            0\n",
      "3     4868011733           [1, 4, 2, 4]     existing        116.0            0\n",
      "4     7622406570  [2, 5, 3, 2, 3, 2, 0]     existing        378.0            0\n"
     ]
    }
   ],
   "source": [
    "df_raw_transaction_data = pd.read_csv(r\"data/train.csv\", delimiter=';')\n",
    "print(df_raw_transaction_data.head())"
   ]
  },
  {
   "cell_type": "markdown",
   "metadata": {},
   "source": [
    "### 2 EDA "
   ]
  },
  {
   "cell_type": "code",
   "execution_count": 228,
   "metadata": {},
   "outputs": [
    {
     "name": "stdout",
     "output_type": "stream",
     "text": [
      "transactionId      0\n",
      "basket             0\n",
      "customerType     442\n",
      "totalAmount      477\n",
      "returnLabel        0\n",
      "dtype: int64\n",
      "Der Datensatz enthält 919 NaN-Werte.\n"
     ]
    }
   ],
   "source": [
    "nan_values = df_raw_transaction_data.isna().sum()\n",
    "print(nan_values)\n",
    "nan_values = nan_values.sum()\n",
    "print(f'Der Datensatz enthält {nan_values} NaN-Werte.')"
   ]
  },
  {
   "cell_type": "code",
   "execution_count": 229,
   "metadata": {},
   "outputs": [
    {
     "data": {
      "text/html": [
       "<div>\n",
       "<style scoped>\n",
       "    .dataframe tbody tr th:only-of-type {\n",
       "        vertical-align: middle;\n",
       "    }\n",
       "\n",
       "    .dataframe tbody tr th {\n",
       "        vertical-align: top;\n",
       "    }\n",
       "\n",
       "    .dataframe thead th {\n",
       "        text-align: right;\n",
       "    }\n",
       "</style>\n",
       "<table border=\"1\" class=\"dataframe\">\n",
       "  <thead>\n",
       "    <tr style=\"text-align: right;\">\n",
       "      <th></th>\n",
       "      <th>transactionId</th>\n",
       "      <th>totalAmount</th>\n",
       "      <th>returnLabel</th>\n",
       "    </tr>\n",
       "  </thead>\n",
       "  <tbody>\n",
       "    <tr>\n",
       "      <th>count</th>\n",
       "      <td>2.240000e+04</td>\n",
       "      <td>21923.000000</td>\n",
       "      <td>22400.000000</td>\n",
       "    </tr>\n",
       "    <tr>\n",
       "      <th>mean</th>\n",
       "      <td>5.498836e+09</td>\n",
       "      <td>259.056014</td>\n",
       "      <td>0.296964</td>\n",
       "    </tr>\n",
       "    <tr>\n",
       "      <th>std</th>\n",
       "      <td>2.594620e+09</td>\n",
       "      <td>217.299439</td>\n",
       "      <td>0.456931</td>\n",
       "    </tr>\n",
       "    <tr>\n",
       "      <th>min</th>\n",
       "      <td>1.000405e+09</td>\n",
       "      <td>10.000000</td>\n",
       "      <td>0.000000</td>\n",
       "    </tr>\n",
       "    <tr>\n",
       "      <th>25%</th>\n",
       "      <td>3.269971e+09</td>\n",
       "      <td>86.000000</td>\n",
       "      <td>0.000000</td>\n",
       "    </tr>\n",
       "    <tr>\n",
       "      <th>50%</th>\n",
       "      <td>5.484690e+09</td>\n",
       "      <td>204.000000</td>\n",
       "      <td>0.000000</td>\n",
       "    </tr>\n",
       "    <tr>\n",
       "      <th>75%</th>\n",
       "      <td>7.752266e+09</td>\n",
       "      <td>370.000000</td>\n",
       "      <td>1.000000</td>\n",
       "    </tr>\n",
       "    <tr>\n",
       "      <th>max</th>\n",
       "      <td>9.999530e+09</td>\n",
       "      <td>1976.000000</td>\n",
       "      <td>1.000000</td>\n",
       "    </tr>\n",
       "  </tbody>\n",
       "</table>\n",
       "</div>"
      ],
      "text/plain": [
       "       transactionId   totalAmount   returnLabel\n",
       "count   2.240000e+04  21923.000000  22400.000000\n",
       "mean    5.498836e+09    259.056014      0.296964\n",
       "std     2.594620e+09    217.299439      0.456931\n",
       "min     1.000405e+09     10.000000      0.000000\n",
       "25%     3.269971e+09     86.000000      0.000000\n",
       "50%     5.484690e+09    204.000000      0.000000\n",
       "75%     7.752266e+09    370.000000      1.000000\n",
       "max     9.999530e+09   1976.000000      1.000000"
      ]
     },
     "execution_count": 229,
     "metadata": {},
     "output_type": "execute_result"
    }
   ],
   "source": [
    "df_raw_transaction_data.describe()"
   ]
  },
  {
   "cell_type": "code",
   "execution_count": 230,
   "metadata": {},
   "outputs": [
    {
     "data": {
      "image/png": "[encoded data removed]",
      "text/plain": [
       "<Figure size 1500x200 with 5 Axes>"
      ]
     },
     "metadata": {},
     "output_type": "display_data"
    }
   ],
   "source": [
    "df_raw_transaction_data.hist(figsize=(15, 2), bins=50, xlabelsize=12, ylabelsize=12, layout=(1, len(df_raw_transaction_data.columns)))\n",
    "plt.tight_layout()\n",
    "plt.show()"
   ]
  },
  {
   "cell_type": "markdown",
   "metadata": {},
   "source": [
    "### 3 Fehlende Werte auffüllen"
   ]
  },
  {
   "cell_type": "code",
   "execution_count": 231,
   "metadata": {},
   "outputs": [],
   "source": [
    "df_raw_transaction_data['totalAmount'].fillna(df_raw_transaction_data['totalAmount'].mean(), inplace=True)\n",
    "df_raw_transaction_data['customerType'].fillna('unknown', inplace=True)"
   ]
  },
  {
   "cell_type": "markdown",
   "metadata": {},
   "source": [
    "### 4 One-hot-encoding"
   ]
  },
  {
   "cell_type": "code",
   "execution_count": 232,
   "metadata": {},
   "outputs": [
    {
     "name": "stdout",
     "output_type": "stream",
     "text": [
      "   transactionId                 basket  totalAmount  returnLabel  customerType_existing  customerType_new\n",
      "0     9534310106              [4, 3, 4]        252.0            1                  False              True\n",
      "1     7202594767        [4, 2, 0, 2, 5]         70.0            0                   True             False\n",
      "2     2737331698                    [5]         84.0            0                   True             False\n",
      "3     4868011733           [1, 4, 2, 4]        116.0            0                   True             False\n",
      "4     7622406570  [2, 5, 3, 2, 3, 2, 0]        378.0            0                   True             False\n"
     ]
    }
   ],
   "source": [
    "df_transaction = pd.get_dummies(df_raw_transaction_data, columns=['customerType'])\n",
    "df_transaction = df_transaction.drop(columns=['customerType_unknown'])\n",
    "print(df_transaction.head())"
   ]
  },
  {
   "cell_type": "code",
   "execution_count": 233,
   "metadata": {},
   "outputs": [
    {
     "name": "stdout",
     "output_type": "stream",
     "text": [
      "   totalAmount  returnLabel  customerType_existing  customerType_new  item_0  item_1  item_2  item_3  item_4  item_5\n",
      "0        252.0            1                  False              True       0       0       0       1       2       0\n",
      "1         70.0            0                   True             False       1       0       2       0       1       1\n",
      "2         84.0            0                   True             False       0       0       0       0       0       1\n",
      "3        116.0            0                   True             False       0       1       1       0       2       0\n",
      "4        378.0            0                   True             False       1       0       3       2       0       1\n"
     ]
    }
   ],
   "source": [
    "basket_matrix = pd.DataFrame(0, index=df_transaction.index, columns=[f'item_{i}' for i in range(6)])\n",
    "\n",
    "for index, row in df_transaction.iterrows():\n",
    "    basket = map(int, row['basket'][1:-1].split(','))\n",
    "    for item in basket:\n",
    "        basket_matrix.at[index, f'item_{item}'] += 1\n",
    "\n",
    "df_final = pd.concat([df_transaction, basket_matrix], axis=1).drop(['basket', 'transactionId'], axis=1)\n",
    "\n",
    "print(df_final.head())"
   ]
  },
  {
   "cell_type": "markdown",
   "metadata": {},
   "source": [
    "### 5 Features bauen"
   ]
  },
  {
   "cell_type": "code",
   "execution_count": 234,
   "metadata": {},
   "outputs": [
    {
     "name": "stdout",
     "output_type": "stream",
     "text": [
      "   totalAmount  returnLabel  customerType_existing  customerType_new  item_0  item_1  item_2  item_3  item_4  item_5  item_count_feature  average_artikel_cost_feature\n",
      "0        252.0            1                  False              True       0       0       0       1       2       0                   3                          84.0\n",
      "1         70.0            0                   True             False       1       0       2       0       1       1                   5                          14.0\n",
      "2         84.0            0                   True             False       0       0       0       0       0       1                   1                          84.0\n",
      "3        116.0            0                   True             False       0       1       1       0       2       0                   4                          29.0\n",
      "4        378.0            0                   True             False       1       0       3       2       0       1                   7                          54.0\n"
     ]
    }
   ],
   "source": [
    "df_feature = df_final.assign(item_count_feature = df_final['item_0'] + df_final['item_1'] + df_final['item_2'] + df_final['item_3'] + df_final['item_4'] + df_final['item_5'])\n",
    "\n",
    "df_feature = df_feature.assign(average_artikel_cost_feature = df_feature['totalAmount'] / df_feature['item_count_feature'])\n",
    "print(df_feature.head())"
   ]
  },
  {
   "cell_type": "markdown",
   "metadata": {},
   "source": [
    "### --- cleanup"
   ]
  },
  {
   "cell_type": "code",
   "execution_count": 235,
   "metadata": {},
   "outputs": [
    {
     "name": "stdout",
     "output_type": "stream",
     "text": [
      "   total  custExist  custNew  i0  i1  i2  i3  i4  i5  count_f  avgCost_f  return\n",
      "0  252.0      False     True   0   0   0   1   2   0        3       84.0       1\n",
      "1   70.0       True    False   1   0   2   0   1   1        5       14.0       0\n",
      "2   84.0       True    False   0   0   0   0   0   1        1       84.0       0\n",
      "3  116.0       True    False   0   1   1   0   2   0        4       29.0       0\n",
      "4  378.0       True    False   1   0   3   2   0   1        7       54.0       0\n"
     ]
    }
   ],
   "source": [
    "columns = [col for col in df_feature.columns if col != 'returnLabel']\n",
    "columns.append('returnLabel')\n",
    "df_feature = df_feature[columns]\n",
    "\n",
    "df_feature.rename(columns={\n",
    "    'totalAmount': 'total',\n",
    "    'returnLabel': 'return',\n",
    "    'customerType_existing': 'custExist',\n",
    "    'customerType_new': 'custNew',\n",
    "    'item_0': 'i0',\n",
    "    'item_1': 'i1',\n",
    "    'item_2': 'i2',\n",
    "    'item_3': 'i3',\n",
    "    'item_4': 'i4',\n",
    "    'item_5': 'i5',\n",
    "    'item_count_feature': 'count_f',\n",
    "    'average_artikel_cost_feature': 'avgCost_f'\n",
    "}, inplace=True)\n",
    "\n",
    "print(df_feature.head())\n"
   ]
  },
  {
   "cell_type": "markdown",
   "metadata": {},
   "source": [
    "### 6 Skalieren"
   ]
  },
  {
   "cell_type": "code",
   "execution_count": 261,
   "metadata": {},
   "outputs": [
    {
     "name": "stdout",
     "output_type": "stream",
     "text": [
      "      total  custExist  custNew        i0        i1        i2        i3        i4        i5   count_f  avgCost_f  return\n",
      "0 -0.032823      False     True -0.771563 -0.767737 -0.775046  0.075189  0.634586 -0.644106 -0.607275   0.856494       1\n",
      "1 -0.879459       True    False  0.383487 -0.767737  1.514422 -0.880132 -0.122402  0.527090  0.133204  -1.343755       0\n",
      "2 -0.814334       True    False -0.771563 -0.767737 -0.775046 -0.880132 -0.879391  0.527090 -1.347754   0.856494       0\n",
      "3 -0.665475       True    False -0.771563  0.391580  0.369688 -0.880132  0.634586 -0.644106 -0.237036  -0.872273       0\n",
      "4  0.553309       True    False  0.383487 -0.767737  2.659156  1.030510 -0.879391  0.527090  0.873682  -0.086470       0\n"
     ]
    }
   ],
   "source": [
    "from sklearn.preprocessing import StandardScaler\n",
    "\n",
    "numeric_columns = ['total', 'i0', 'i1', 'i2', 'i3', 'i4', 'i5', 'count_f', 'avgCost_f']\n",
    "df_feature[numeric_columns] = StandardScaler().fit_transform(df_feature[numeric_columns])\n",
    "\n",
    "print(df_feature.head())"
   ]
  },
  {
   "cell_type": "markdown",
   "metadata": {},
   "source": [
    "### 7. Klassifikationsmodelle Trainieren"
   ]
  },
  {
   "cell_type": "code",
   "execution_count": 237,
   "metadata": {},
   "outputs": [
    {
     "name": "stdout",
     "output_type": "stream",
     "text": [
      "\n",
      "Training Logistic Regression...\n",
      "Best parameters for Logistic Regression: {'C': 1, 'penalty': 'l2'}\n",
      "\n",
      "Training Random Forest...\n",
      "Best parameters for Random Forest: {'max_depth': 6, 'n_estimators': 120}\n",
      "\n",
      "Training Gradient Boosting Tree...\n",
      "Best parameters for Gradient Boosting Tree: {'max_depth': 2, 'n_estimators': 140}\n"
     ]
    }
   ],
   "source": [
    "from sklearn.model_selection import GridSearchCV\n",
    "from sklearn.linear_model import LogisticRegression\n",
    "from sklearn.ensemble import RandomForestClassifier, GradientBoostingClassifier\n",
    "\n",
    "X = df_feature.drop(columns=[\"return\"])\n",
    "y = df_feature[\"return\"]\n",
    "\n",
    "grid_params = {\n",
    "    \"Logistic Regression\": (LogisticRegression(solver='liblinear'), {\"C\": [0.1, 1, 4, 5, 6, 10, 30, 100], \"penalty\": [\"l1\", \"l2\"]}),\n",
    "    \"Random Forest\": (RandomForestClassifier(), {\"n_estimators\": [60, 80, 100, 120, 140], \"max_depth\": [2, 4, 6]}),\n",
    "    \"Gradient Boosting Tree\": (GradientBoostingClassifier(), {\"n_estimators\": [60, 80, 100, 120, 140], \"max_depth\": [2, 4, 6]})\n",
    "}\n",
    "\n",
    "grid_search_results = {}\n",
    "\n",
    "# Training\n",
    "for name, (model, params) in grid_params.items():\n",
    "    print(f\"\\nTraining {name}...\")\n",
    "    grid_search = GridSearchCV(model, params, cv=5, scoring='accuracy', n_jobs=-1)\n",
    "    grid_search.fit(X, y)\n",
    "    grid_search_results[name] = grid_search  # Speichern des Ergebnisses\n",
    "    print(f\"Best parameters for {name}: {grid_search.best_params_}\")\n",
    "\n"
   ]
  },
  {
   "cell_type": "markdown",
   "metadata": {},
   "source": [
    "### ---visulation"
   ]
  },
  {
   "cell_type": "code",
   "execution_count": 238,
   "metadata": {},
   "outputs": [
    {
     "data": {
      "image/png": "[encoded data removed]",
      "text/plain": [
       "<Figure size 1000x600 with 1 Axes>"
      ]
     },
     "metadata": {},
     "output_type": "display_data"
    }
   ],
   "source": [
    "import numpy as np\n",
    "from sklearn.metrics import classification_report\n",
    "\n",
    "# Ergebnisse der Grid Search für jedes Modell\n",
    "models = list(grid_search_results.keys())\n",
    "precision = []\n",
    "recall = []\n",
    "f1_score = []\n",
    "\n",
    "# Evaluation der Modelle und Extrahierung der Metriken\n",
    "for name, grid_search in grid_search_results.items():\n",
    "    y_pred = grid_search.best_estimator_.predict(X)\n",
    "    report = classification_report(y, y_pred, output_dict=True)  # Klassifikationsbericht als Dictionary\n",
    "    precision.append(report['accuracy'])  # Oder spezifische Metriken wie Precision, Recall, F1-Score\n",
    "    recall.append(report['weighted avg']['recall'])\n",
    "    f1_score.append(report['weighted avg']['f1-score'])\n",
    "\n",
    "# Balkendiagramm erstellen\n",
    "bar_width = 0.25\n",
    "index = np.arange(len(models))\n",
    "\n",
    "# Platzierung der Balken\n",
    "fig, ax = plt.subplots(figsize=(10, 6))\n",
    "\n",
    "bar1 = ax.bar(index, precision, bar_width, label='Precision')\n",
    "bar2 = ax.bar(index + bar_width, recall, bar_width, label='Recall')\n",
    "bar3 = ax.bar(index + 2 * bar_width, f1_score, bar_width, label='F1 Score')\n",
    "\n",
    "# Achsen und Labels\n",
    "ax.set_xlabel('Model', fontsize=12)\n",
    "ax.set_ylabel('Score', fontsize=12)\n",
    "ax.set_title('Model Evaluation Comparison', fontsize=14)\n",
    "ax.set_xticks(index + bar_width)\n",
    "ax.set_xticklabels(models, fontsize=12)\n",
    "ax.legend()\n",
    "\n",
    "ax.set_ylim(0.8, 0.9)\n",
    "\n",
    "# Diagramm anzeigen\n",
    "plt.show()\n"
   ]
  },
  {
   "cell_type": "markdown",
   "metadata": {},
   "source": [
    "### 8. Laden der Testdaten"
   ]
  },
  {
   "cell_type": "code",
   "execution_count": 251,
   "metadata": {},
   "outputs": [],
   "source": [
    "df_raw_transaction_test_data = pd.read_csv(r\"data/test.csv\", delimiter=';')"
   ]
  },
  {
   "cell_type": "markdown",
   "metadata": {},
   "source": [
    "### 9. Entfernen Sie alle Zeilen mit fehlenden Werten."
   ]
  },
  {
   "cell_type": "code",
   "execution_count": 252,
   "metadata": {},
   "outputs": [],
   "source": [
    "df_raw_transaction_test_data.dropna(inplace=True)"
   ]
  },
  {
   "cell_type": "markdown",
   "metadata": {},
   "source": [
    "### 10. Transformieren Sie die Attribute genauso wie bei den Trainingsdaten."
   ]
  },
  {
   "cell_type": "code",
   "execution_count": 253,
   "metadata": {},
   "outputs": [],
   "source": [
    "# one-hot encoding\n",
    "df_transaction_test = pd.get_dummies(df_raw_transaction_test_data, columns=['customerType'])\n",
    "\n",
    "basket_matrix = pd.DataFrame(0, index=df_transaction_test.index, columns=[f'item_{i}' for i in range(6)])\n",
    "for index, row in df_transaction_test.iterrows():\n",
    "    basket = map(int, row['basket'][1:-1].split(','))\n",
    "    for item in basket:\n",
    "        basket_matrix.at[index, f'item_{item}'] += 1\n",
    "df_final_test = pd.concat([df_transaction_test, basket_matrix], axis=1).drop(['basket', 'transactionId'], axis=1)\n",
    "\n",
    "# feature hinzufügen\n",
    "df_feature_test = df_final_test.assign(item_count_feature = df_final_test['item_0'] + df_final_test['item_1'] + df_final_test['item_2'] + df_final_test['item_3'] + df_final_test['item_4'] + df_final_test['item_5'])\n",
    "df_feature_test = df_feature_test.assign(average_artikel_cost_feature = df_feature_test['totalAmount'] / df_feature_test['item_count_feature'])\n",
    "\n",
    "#cleanup\n",
    "columns = [col for col in df_feature_test.columns if col != 'returnLabel']\n",
    "columns.append('returnLabel')\n",
    "df_feature_test = df_feature_test[columns]\n",
    "df_feature_test.rename(columns={\n",
    "    'totalAmount': 'total',\n",
    "    'returnLabel': 'return',\n",
    "    'customerType_existing': 'custExist',\n",
    "    'customerType_new': 'custNew',\n",
    "    'item_0': 'i0',\n",
    "    'item_1': 'i1',\n",
    "    'item_2': 'i2',\n",
    "    'item_3': 'i3',\n",
    "    'item_4': 'i4',\n",
    "    'item_5': 'i5',\n",
    "    'item_count_feature': 'count_f',\n",
    "    'average_artikel_cost_feature': 'avgCost_f'\n",
    "}, inplace=True)\n"
   ]
  },
  {
   "cell_type": "markdown",
   "metadata": {},
   "source": [
    "### 11. Skalieren Sie die Daten im gleichem Maß wie die Trainingsdaten."
   ]
  },
  {
   "cell_type": "code",
   "execution_count": 255,
   "metadata": {},
   "outputs": [],
   "source": [
    "numeric_columns = ['total', 'i0', 'i1', 'i2', 'i3', 'i4', 'i5', 'count_f', 'avgCost_f']\n",
    "df_feature_test[numeric_columns] = StandardScaler().fit_transform(df_feature_test[numeric_columns])"
   ]
  },
  {
   "cell_type": "markdown",
   "metadata": {},
   "source": [
    "### 12. Machen Sie eine Vorhersage auf den Testdaten mit allen drei Modellen und den jeweils besten Hyperparametern aus der Cross Validation."
   ]
  },
  {
   "cell_type": "code",
   "execution_count": 256,
   "metadata": {},
   "outputs": [
    {
     "name": "stdout",
     "output_type": "stream",
     "text": [
      "Predictions for Logistic Regression:\n",
      "[1 0 0 ... 1 0 0]\n",
      "Predictions for Random Forest:\n",
      "[1 0 0 ... 0 0 0]\n",
      "Predictions for Gradient Boosting Tree:\n",
      "[1 0 0 ... 1 0 0]\n"
     ]
    }
   ],
   "source": [
    "# Ensure the test data has the same columns as the training data\n",
    "missing_cols = set(X.columns) - set(df_feature_test.columns)\n",
    "for col in missing_cols:\n",
    "    df_feature_test[col] = 0\n",
    "\n",
    "# Reorder columns to match the training data\n",
    "df_feature_test_test = df_feature_test[X.columns]\n",
    "\n",
    "predictions = {}\n",
    "for name, grid_search in grid_search_results.items():\n",
    "    predictions[name] = grid_search.best_estimator_.predict(df_feature_test_test)\n",
    "\n",
    "for model_name, prediction in predictions.items():\n",
    "    print(f\"Predictions for {model_name}:\")\n",
    "    print(prediction)"
   ]
  },
  {
   "cell_type": "markdown",
   "metadata": {},
   "source": [
    "### 13. Berechnen Sie für jedes der drei Modell Accuracy, Precision und Recall."
   ]
  },
  {
   "cell_type": "code",
   "execution_count": 263,
   "metadata": {},
   "outputs": [
    {
     "name": "stdout",
     "output_type": "stream",
     "text": [
      "Metrics for Logistic Regression:\n",
      "Accuracy: 0.8772\n",
      "Precision: 0.8131\n",
      "Recall: 0.7643\n",
      "\n",
      "Metrics for Random Forest:\n",
      "Accuracy: 0.8609\n",
      "Precision: 0.7957\n",
      "Recall: 0.7186\n",
      "\n",
      "Metrics for Gradient Boosting Tree:\n",
      "Accuracy: 0.8752\n",
      "Precision: 0.8067\n",
      "Recall: 0.7654\n",
      "\n"
     ]
    }
   ],
   "source": [
    "from sklearn.metrics import accuracy_score, precision_score, recall_score\n",
    "\n",
    "# Extract y_test from df_feature_test\n",
    "y_test = df_feature_test['return']\n",
    "\n",
    "metrics = {}\n",
    "\n",
    "for model_name, prediction in predictions.items():\n",
    "    accuracy = accuracy_score(y_test, prediction)\n",
    "    precision = precision_score(y_test, prediction)\n",
    "    recall = recall_score(y_test, prediction)\n",
    "    \n",
    "    metrics[model_name] = {\n",
    "        'accuracy': accuracy,\n",
    "        'precision': precision,\n",
    "        'recall': recall\n",
    "    }\n",
    "\n",
    "for model_name, metric in metrics.items():\n",
    "    print(f\"Metrics for {model_name}:\")\n",
    "    print(f\"Accuracy: {round(metric['accuracy'], 4)}\")\n",
    "    print(f\"Precision: {round(metric['precision'], 4)}\")\n",
    "    print(f\"Recall: {round(metric['recall'], 4)}\\n\")"
   ]
  },
  {
   "cell_type": "markdown",
   "metadata": {},
   "source": [
    "### 14. Berechnen Sie außerdem die Accuracy auf den Trainingsdaten und vergleichen Sie Accuracy auf Trainings- und Testdaten. Liegt Overfitting vor? (Unterschied > 5%)"
   ]
  },
  {
   "cell_type": "code",
   "execution_count": 264,
   "metadata": {},
   "outputs": [
    {
     "name": "stdout",
     "output_type": "stream",
     "text": [
      "Accuracy on training data for Logistic Regression: 0.8803\n",
      "Accuracy on test data for Logistic Regression: 0.8772\n",
      "No overfitting detected for Logistic Regression (Difference: 0.0031)\n",
      "\n",
      "Accuracy on training data for Random Forest: 0.8722\n",
      "Accuracy on test data for Random Forest: 0.8609\n",
      "No overfitting detected for Random Forest (Difference: 0.0113)\n",
      "\n",
      "Accuracy on training data for Gradient Boosting Tree: 0.8833\n",
      "Accuracy on test data for Gradient Boosting Tree: 0.8752\n",
      "No overfitting detected for Gradient Boosting Tree (Difference: 0.0081)\n",
      "\n"
     ]
    }
   ],
   "source": [
    "# Calculate accuracy on training data\n",
    "train_accuracies = {}\n",
    "for name, grid_search in grid_search_results.items():\n",
    "    y_train_pred = grid_search.best_estimator_.predict(X)\n",
    "    train_accuracies[name] = accuracy_score(y, y_train_pred)\n",
    "\n",
    "# Compare accuracies\n",
    "for model_name, train_accuracy in train_accuracies.items():\n",
    "    test_accuracy = metrics[model_name]['accuracy']\n",
    "    print(f\"Accuracy on training data for {model_name}: {round(train_accuracy, 4)}\")\n",
    "    print(f\"Accuracy on test data for {model_name}: {round(test_accuracy, 4)}\")\n",
    "    if abs(train_accuracy - test_accuracy) > 0.05:\n",
    "        print(f\"Overfitting detected for {model_name} (Difference: {round(abs(train_accuracy - test_accuracy), 4)})\")\n",
    "    else:\n",
    "        print(f\"No overfitting detected for {model_name} (Difference: {round(abs(train_accuracy - test_accuracy), 4)})\\n\")"
   ]
  },
  {
   "cell_type": "markdown",
   "metadata": {},
   "source": [
    "###  15. Untersuchen Sie wieviele Datenpunkte es in den Testdaten gibt, welche von allen drei Modellen falsch klassifiziert wurden: \n",
    "1. Bestimmen Sie für jedes der drei Modelle die Indizes der Testdatenpunkte auf welchen das jeweilige Modell falsch klassifiziert hat. \n",
    "2. Nutzen Sie die set-Klasse in Python um die Anzahl an Datenpunkten zu bestimmen, welche von allen drei Modellen falsch klassifiziert wurden."
   ]
  },
  {
   "cell_type": "code",
   "execution_count": 259,
   "metadata": {},
   "outputs": [
    {
     "name": "stdout",
     "output_type": "stream",
     "text": [
      "Number of data points misclassified by all three models: 887\n"
     ]
    }
   ],
   "source": [
    "# Step 1: Identify misclassified indices for each model\n",
    "misclassified_indices = {}\n",
    "\n",
    "for model_name, prediction in predictions.items():\n",
    "    misclassified_indices[model_name] = set(df_feature_test.index[y_test != prediction])\n",
    "\n",
    "# Step 2: Find the intersection of misclassified indices\n",
    "common_misclassified_indices = set.intersection(*misclassified_indices.values())\n",
    "\n",
    "# Output the number of common misclassified data points\n",
    "print(f\"Number of data points misclassified by all three models: {len(common_misclassified_indices)}\")"
   ]
  },
  {
   "cell_type": "markdown",
   "metadata": {},
   "source": [
    "### 16. Vergleichen Sie die Feature-Importances der drei Modelle."
   ]
  },
  {
   "cell_type": "code",
   "execution_count": null,
   "metadata": {},
   "outputs": [
    {
     "data": {
      "image/png": "[encoded data removed]",
      "text/plain": [
       "<Figure size 2000x500 with 3 Axes>"
      ]
     },
     "metadata": {},
     "output_type": "display_data"
    }
   ],
   "source": [
    "# Extract feature importances\n",
    "feature_importances = {\n",
    "    \"Random Forest\": grid_search_results[\"Random Forest\"].best_estimator_.feature_importances_,\n",
    "    \"Gradient Boosting Tree\": grid_search_results[\"Gradient Boosting Tree\"].best_estimator_.feature_importances_\n",
    "}\n",
    "\n",
    "# Logistic Regression does not have feature importances, but we can use the coefficients instead\n",
    "log_reg_coefficients = grid_search_results[\"Logistic Regression\"].best_estimator_.coef_[0]\n",
    "feature_importances[\"Logistic Regression\"] = log_reg_coefficients\n",
    "\n",
    "# Plot feature importances\n",
    "fig, axes = plt.subplots(1, 3, figsize=(20, 5), sharey=True)\n",
    "fig.suptitle('Feature Importances')\n",
    "\n",
    "for ax, (model_name, importances) in zip(axes, feature_importances.items()):\n",
    "    ax.barh(X.columns, importances)\n",
    "    ax.set_title(model_name)\n",
    "\n",
    "plt.show()"
   ]
  }
 ],
 "metadata": {
  "kernelspec": {
   "display_name": "ml-course",
   "language": "python",
   "name": "python3"
  },
  "language_info": {
   "codemirror_mode": {
    "name": "ipython",
    "version": 3
   },
   "file_extension": ".py",
   "mimetype": "text/x-python",
   "name": "python",
   "nbconvert_exporter": "python",
   "pygments_lexer": "ipython3",
   "version": "3.8.20"
  }
 },
 "nbformat": 4,
 "nbformat_minor": 2
}
